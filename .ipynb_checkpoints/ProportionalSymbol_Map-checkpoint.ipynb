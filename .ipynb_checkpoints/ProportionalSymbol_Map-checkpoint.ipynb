{
 "cells": [
  {
   "cell_type": "code",
   "execution_count": null,
   "id": "25d9ba7b",
   "metadata": {},
   "outputs": [],
   "source": [
    "#Proportional symbol map"
   ]
  },
  {
   "cell_type": "code",
   "execution_count": 4,
   "id": "99c5806d",
   "metadata": {},
   "outputs": [],
   "source": [
    "def create_propsymbol_map(basemap, pointslayer, column):\n",
    "    \n",
    "    #Enter the basemap path\n",
    "    basemap_df = gpd.read_file(basemap)\n",
    "    \n",
    "    #Points layer to be overlaid path, column to be chosen \n",
    "    points_df = gpd.read_file(pointslayer)\n",
    "    \n",
    "    \n",
    "    #Base map plot\n",
    "    basemap = basemap_df.plot(facecolor='lightgray', edgecolor='gray')\n",
    "\n",
    "    propmap = points_df.plot(ax=basemap, markersize=points_df[f\"{column}\"], column=column, figsize=(60,60), color='red', legend=True)\n",
    "\n",
    "    #Annotations\n",
    "    propmap.set_title(f'Proportional symbol map of {column}')\n",
    "    propmap.axis('equal')\n",
    "    propmap.set_axis_off()\n",
    "\n",
    "    return propmap"
   ]
  }
 ],
 "metadata": {
  "kernelspec": {
   "display_name": "Python 3 (ipykernel)",
   "language": "python",
   "name": "python3"
  },
  "language_info": {
   "codemirror_mode": {
    "name": "ipython",
    "version": 3
   },
   "file_extension": ".py",
   "mimetype": "text/x-python",
   "name": "python",
   "nbconvert_exporter": "python",
   "pygments_lexer": "ipython3",
   "version": "3.9.7"
  }
 },
 "nbformat": 4,
 "nbformat_minor": 5
}
