{
 "cells": [
  {
   "cell_type": "code",
   "execution_count": null,
   "metadata": {},
   "outputs": [],
   "source": [
    "#Making a proportional symbol map function\n",
    "import geopandas as gpd"
   ]
  },
  {
   "cell_type": "code",
   "execution_count": 1,
   "metadata": {},
   "outputs": [],
   "source": [
    "def create_propsymap(basemap_path, points, column, title):\n",
    "    \n",
    "    #the path to the base layer\n",
    "    base_file = gpd.read_file(basemap_path)\n",
    "\n",
    "    # path to the points being used for the proportional symbol\n",
    "    points_df = gpd.read_file(points)\n",
    "    points_df\n",
    "\n",
    "    #clarify basemap\n",
    "    basemap = base_file.plot(color = \"lightgray\", edgecolor = \"gray\")\n",
    "\n",
    "    #finalise proportional map\n",
    "    prop_map = points_df.plot(ax = basemap, marker = '', column = column, color = \"red\")\n",
    "    prop_map.set_title(title)\n",
    "\n",
    "    return prop_map\n",
    "\n",
    "\n"
   ]
  },
  {
   "cell_type": "code",
   "execution_count": null,
   "metadata": {},
   "outputs": [],
   "source": []
  }
 ],
 "metadata": {
  "kernelspec": {
   "display_name": "Python 3.8.5 ('base')",
   "language": "python",
   "name": "python3"
  },
  "language_info": {
   "codemirror_mode": {
    "name": "ipython",
    "version": 3
   },
   "file_extension": ".py",
   "mimetype": "text/x-python",
   "name": "python",
   "nbconvert_exporter": "python",
   "pygments_lexer": "ipython3",
   "version": "3.8.5"
  },
  "orig_nbformat": 4,
  "vscode": {
   "interpreter": {
    "hash": "cd4bb907c7af96572cb5c0b3206a81e11abaa05dcbb094b3c79bb7a16450af8d"
   }
  }
 },
 "nbformat": 4,
 "nbformat_minor": 2
}
