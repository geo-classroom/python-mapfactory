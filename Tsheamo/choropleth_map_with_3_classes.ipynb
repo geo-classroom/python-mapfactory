{
  "nbformat": 4,
  "nbformat_minor": 0,
  "metadata": {
    "colab": {
      "provenance": []
    },
    "kernelspec": {
      "name": "python3",
      "display_name": "Python 3"
    },
    "language_info": {
      "name": "python"
    }
  },
  "cells": [
    {
      "cell_type": "code",
      "source": [
        "#Write a function that generates a choropleth map with 3 classes task 2\n",
        "!pip install geojson\n",
        "!pip install geopandas"
      ],
      "metadata": {
        "id": "6ORgBtTNrvgp"
      },
      "execution_count": null,
      "outputs": []
    },
    {
      "cell_type": "code",
      "source": [
        "import geojson\n",
        "import geopandas as gpd\n",
        "import matplotlib.pyplot as plt"
      ],
      "metadata": {
        "id": "VuBUxAF3rw1I"
      },
      "execution_count": null,
      "outputs": []
    },
    {
      "cell_type": "code",
      "source": [
        "path = '/content/Countries.geojson'"
      ],
      "metadata": {
        "id": "lPMiYZCJr82B"
      },
      "execution_count": null,
      "outputs": []
    },
    {
      "cell_type": "code",
      "source": [
        "geojson = gpd.read_file(path)\n",
        "geojson"
      ],
      "metadata": {
        "id": "DOAy1C7-sBzd"
      },
      "execution_count": null,
      "outputs": []
    },
    {
      "cell_type": "code",
      "source": [
        "fig, ax = plt.subplots(figsize =(12, 10), subplot_kw= dict(aspect = 'equal'))\n",
        "geojson.plot(column = 'POP_EST', scheme = 'Quantiles', k = 3, cmap = 'winter', legend = True, ax = ax)"
      ],
      "metadata": {
        "id": "d0az57prsG-D"
      },
      "execution_count": null,
      "outputs": []
    }
  ]
}