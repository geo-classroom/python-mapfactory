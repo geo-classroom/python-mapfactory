{
  "nbformat": 4,
  "nbformat_minor": 0,
  "metadata": {
    "colab": {
      "provenance": [],
      "collapsed_sections": []
    },
    "kernelspec": {
      "name": "python3",
      "display_name": "Python 3"
    },
    "language_info": {
      "name": "python"
    }
  },
  "cells": [
    {
      "cell_type": "code",
      "source": [
        "! pip install geojson\n",
        "! pip install geoplot\n",
        "! pip install geopandas"
      ],
      "metadata": {
        "id": "49f9lnkV1nEz"
      },
      "execution_count": null,
      "outputs": []
    },
    {
      "cell_type": "code",
      "source": [
        "# Initialize the figure Task 3\n",
        "import matplotlib.pyplot as plt\n",
        "import geoplot as gplt\n",
        "import geopandas as gpd\n",
        "countries= '/content/Countries.geojson'\n",
        "geo = gpd.read_file(countries)\n",
        "geo\n",
        "\n",
        "fig, ax = plt.subplots(1, 1, figsize=(16, 12))\n",
        "\n",
        "# Set up the color sheme:\n",
        "import mapclassify as mc\n",
        "scheme = mc.Quantiles(geo['POP_EST'], k=10)\n",
        "scheme = mc.EqualInterval(geo['POP_RANK'], k = 7)\n",
        "\n",
        "# Map\n",
        "gplt.choropleth(geo, \n",
        "    hue=\"POP_EST\", \n",
        "    linewidth=.1,\n",
        "    scheme=scheme, cmap='inferno_r',\n",
        "      legend=True,\n",
        "    edgecolor='black',\n",
        "    ax=ax\n",
        ");    \n",
        "\n",
        "gplt.choropleth(geo, \n",
        "    hue=\"POP_RANK\", \n",
        "    linewidth=.1,\n",
        "    scheme=scheme, cmap='YlOrRd',\n",
        "      legend=True,\n",
        "    edgecolor='black',\n",
        "    ax=ax\n",
        ");\n",
        "\n",
        "ax.set_title('Population estimation and population rank per country', fontsize=13);"
      ],
      "metadata": {
        "id": "HekjN8CV1phH"
      },
      "execution_count": null,
      "outputs": []
    }
  ]
}