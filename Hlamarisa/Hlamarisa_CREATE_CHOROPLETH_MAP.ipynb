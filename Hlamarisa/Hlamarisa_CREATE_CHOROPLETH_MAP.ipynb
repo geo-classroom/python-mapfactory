{
  "cells": [
    {
      "cell_type": "code",
      "execution_count": null,
      "metadata": {
        "id": "6xgTQBFWT44_"
      },
      "outputs": [],
      "source": [
        "%pip install geopandas\n",
        "%pip install mapclassify"
      ]
    },
    {
      "cell_type": "code",
      "execution_count": 2,
      "metadata": {
        "id": "E1GhRQi1VYxf"
      },
      "outputs": [],
      "source": [
        "import geopandas as gpd\n",
        "import pandas as pd\n",
        "import matplotlib.pyplot as plt\n",
        "import mapclassify\n",
        "from mpl_toolkits.axes_grid1 import make_axes_locatable"
      ]
    },
    {
      "cell_type": "code",
      "execution_count": null,
      "metadata": {
        "colab": {
          "base_uri": "https://localhost:8080/",
          "height": 232
        },
        "id": "s6sKT2MK1bPt",
        "outputId": "64eab330-e150-4379-b5bf-a5ba0692d18c"
      },
      "outputs": [],
      "source": [
        "#Map Classification Function\n",
        "\n",
        "def map_generator(url, col, title, scheme, leg_title, num_classes):\n",
        "\n",
        "  df = gpd.read_file(url)\n",
        "  \n",
        "  final_map = df.plot(column=col, scheme=scheme, legend = True, legend_kwds={'title': leg_title}, cmap = 'autumn', k = num_classes)\n",
        "  final_map.set_title(title)\n",
        "  return final_map\n",
        "\n",
        "#example output:\n",
        "#map_generator(\"https://raw.githubusercontent.com/Hlamarisa/python-mapfactory/master/country_boundaries_v2.json\", 'POP_EST', 'Pop of Count', 'quantiles', 'Pop Classes', 7)"
      ]
    }
  ],
  "metadata": {
    "colab": {
      "collapsed_sections": [],
      "provenance": []
    },
    "kernelspec": {
      "display_name": "Python 3.10.8 64-bit (microsoft store)",
      "language": "python",
      "name": "python3"
    },
    "language_info": {
      "codemirror_mode": {
        "name": "ipython",
        "version": 3
      },
      "file_extension": ".py",
      "mimetype": "text/x-python",
      "name": "python",
      "nbconvert_exporter": "python",
      "pygments_lexer": "ipython3",
      "version": "3.10.8"
    },
    "vscode": {
      "interpreter": {
        "hash": "e0acaf148705ed9ed86cc5cad12259d7985e30670e5686e5f55604a9b3b84a55"
      }
    }
  },
  "nbformat": 4,
  "nbformat_minor": 0
}
