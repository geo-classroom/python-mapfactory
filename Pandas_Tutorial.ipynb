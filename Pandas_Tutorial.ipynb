{
 "cells": [
  {
   "cell_type": "code",
   "execution_count": null,
   "metadata": {},
   "outputs": [],
   "source": [
    "#1. Import library\n",
    "import pandas as pd"
   ]
  },
  {
   "cell_type": "code",
   "execution_count": null,
   "metadata": {},
   "outputs": [],
   "source": [
    "#Read_csv reads the csv according to a specific path.\n",
    "#Ensure the seperator used in the arguments matches the seperator used in the csv file\n",
    "\n",
    "#2. Read your csv into a dataframe called 'First_df'. Show the first ten rows of the dataframe.\n",
    "\n",
    "\n",
    "path = \"/content/healthy_lifestyle_city_2021.csv\"\n",
    "First_df = pd.read_csv(path, skiprows = 0, sep = ',')\n",
    "First_df.head(10)"
   ]
  },
  {
   "cell_type": "code",
   "execution_count": null,
   "metadata": {},
   "outputs": [],
   "source": [
    "#3. Sort the cities by decreasing Life Expectancy\n",
    "#You can sort by multiples columns - df.sort_values(by=['column1', 'column2'])\n",
    "#Note: sort_values sort in ascending order by default, thus the ascending parameter is necessary in this instance\n",
    "\n",
    "First_df.sort_values(by='Life expectancy(years) (Country)', ascending=False)"
   ]
  },
  {
   "cell_type": "code",
   "execution_count": null,
   "metadata": {},
   "outputs": [],
   "source": [
    "#4. Generate a 5 number summary (min, max, Q1, Q3, mean, median) of the Life Expectancy in the data\n",
    "\n",
    "First_df['Life expectancy(years) (Country)'].describe()"
   ]
  },
  {
   "cell_type": "code",
   "execution_count": null,
   "metadata": {},
   "outputs": [],
   "source": [
    "#iloc selects based on numerical position in the data. A negative number will start the count from the last row\n",
    "# loc, a closely related function, is label-based and thus employs the value not the position to select e.g\n",
    "#First_df.loc[:, ['City', 'Rank', 'Cost of a bottle of water(City)']]\n",
    "\n",
    "\n",
    "#5. Show the city in the 34th row\n",
    "\n",
    "First_df.iloc[34]"
   ]
  },
  {
   "cell_type": "code",
   "execution_count": null,
   "metadata": {},
   "outputs": [],
   "source": [
    "#6. Show only the row of the city Barcelona\n",
    "First_df.loc[First_df.City == 'Barcelona']"
   ]
  },
  {
   "cell_type": "code",
   "execution_count": null,
   "metadata": {},
   "outputs": [],
   "source": [
    "#7. Which city ranked in the Top10 has a Happiness level less than 6?\n",
    "\n",
    "First_df.loc[(First_df.Rank <= 10) & (First_df['Happiness levels(Country)'] < 6)]"
   ]
  },
  {
   "cell_type": "code",
   "execution_count": null,
   "metadata": {},
   "outputs": [],
   "source": [
    "#8. Convert Sunshine hours(City) to the correct data type.\n",
    "\n",
    "First_df['Sunshine hours(City)'].describe()\n",
    "pd.to_numeric(First_df['Sunshine hours(City)'], errors ='coerce')"
   ]
  },
  {
   "cell_type": "code",
   "execution_count": null,
   "metadata": {},
   "outputs": [],
   "source": [
    "#9. Replace null values in Sunshine Hrs with zero.\n",
    "\n",
    "First_df['Sunshine hours(City)'].fillna(0)"
   ]
  },
  {
   "cell_type": "code",
   "execution_count": null,
   "metadata": {},
   "outputs": [],
   "source": [
    "#10. Rename 'Cost of a monthly gym membership(City)' to 'Gym membership cost'\n",
    "\n",
    "First_df.rename(columns={'Cost of a monthly gym membership(City)': 'Gym membership cost'})"
   ]
  },
  {
   "cell_type": "code",
   "execution_count": null,
   "metadata": {},
   "outputs": [],
   "source": [
    "#With these basic data wrangling techniques, you're set to deal view and edit large dataframes files. \n",
    "#Try these without help. See how far you can get.\n",
    "#Happy learning & Good luck!"
   ]
  }
 ],
 "metadata": {
  "kernelspec": {
   "display_name": "Python 3.10.2 64-bit",
   "language": "python",
   "name": "python3"
  },
  "language_info": {
   "name": "python",
   "version": "3.10.2"
  },
  "orig_nbformat": 4,
  "vscode": {
   "interpreter": {
    "hash": "aee8b7b246df8f9039afb4144a1f6fd8d2ca17a180786b69acc140d282b71a49"
   }
  }
 },
 "nbformat": 4,
 "nbformat_minor": 2
}
